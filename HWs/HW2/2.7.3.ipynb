{
  "cells": [
    {
      "cell_type": "markdown",
      "metadata": {
        "id": "hz35ETpNelkG"
      },
      "source": [
        "# Analyzing RCT data with Precision Adjustment"
      ]
    },
    {
      "cell_type": "code",
      "execution_count": null,
      "metadata": {
        "id": "w7B1iDaqa2ZI",
        "vscode": {
          "languageId": "r"
        },
        "colab": {
          "base_uri": "https://localhost:8080/"
        },
        "outputId": "808dd2f4-2e37-40ac-c275-d1d262281b46"
      },
      "outputs": [
        {
          "output_type": "stream",
          "name": "stderr",
          "text": [
            "Installing package into ‘/usr/local/lib/R/site-library’\n",
            "(as ‘lib’ is unspecified)\n",
            "\n",
            "Installing package into ‘/usr/local/lib/R/site-library’\n",
            "(as ‘lib’ is unspecified)\n",
            "\n",
            "Installing package into ‘/usr/local/lib/R/site-library’\n",
            "(as ‘lib’ is unspecified)\n",
            "\n",
            "Installing package into ‘/usr/local/lib/R/site-library’\n",
            "(as ‘lib’ is unspecified)\n",
            "\n"
          ]
        }
      ],
      "source": [
        "install.packages(\"sandwich\")\n",
        "install.packages(\"lmtest\")\n",
        "install.packages(\"xtable\")\n",
        "install.packages(\"hdm\")"
      ]
    },
    {
      "cell_type": "code",
      "execution_count": null,
      "metadata": {
        "id": "x7OVGk3uqZ1a",
        "vscode": {
          "languageId": "r"
        }
      },
      "outputs": [],
      "source": [
        "library(sandwich)\n",
        "library(lmtest)\n",
        "library(xtable)\n",
        "library(hdm)"
      ]
    },
    {
      "cell_type": "markdown",
      "metadata": {
        "id": "v7-YfIbyelkV"
      },
      "source": [
        "## Data\n",
        "\n",
        "In this lab, we analyze the Pennsylvania re-employment bonus experiment, which was previously studied in \"Sequential testing of duration data: the case of the Pennsylvania ‘reemployment bonus’ experiment\" (Bilias, 2000), among others. These experiments were conducted in the 1980s by the U.S. Department of Labor to test the incentive effects of alternative compensation schemes for unemployment insurance (UI). In these experiments, UI claimants were randomly assigned either to a control group or one of five treatment groups. Actually, there are six treatment groups in the experiments. Here we focus on treatment group 4, but feel free to explore other treatment groups. In the control group the current rules of the UI applied. Individuals in the treatment groups were offered a cash bonus if they found a job within some pre-specified period of time (qualification period), provided that the job was retained for a specified duration. The treatments differed in the level of the bonus, the length of the qualification period, and whether the bonus was declining over time in the qualification period; see http://qed.econ.queensu.ca/jae/2000-v15.6/bilias/readme.b.txt for further details on data.\n",
        "  "
      ]
    },
    {
      "cell_type": "code",
      "execution_count": null,
      "metadata": {
        "id": "_whbk2z4elkY",
        "vscode": {
          "languageId": "r"
        },
        "colab": {
          "base_uri": "https://localhost:8080/"
        },
        "outputId": "792b63fc-b947-4664-d53e-08b6d9fd57ec"
      },
      "outputs": [
        {
          "output_type": "stream",
          "name": "stderr",
          "text": [
            "The following objects are masked from Penn (pos = 3):\n",
            "\n",
            "    abdt, agegt54, agelt35, black, dep, durable, female, hispanic,\n",
            "    husd, inuidur1, inuidur2, lusd, muld, nondurable, othrace, q1, q2,\n",
            "    q3, q4, q5, q6, recall, tg\n",
            "\n",
            "\n"
          ]
        }
      ],
      "source": [
        "## loading the data\n",
        "file <- \"https://raw.githubusercontent.com/CausalAIBook/MetricsMLNotebooks/main/data/penn_jae.dat\"\n",
        "Penn <- as.data.frame(read.table(file, header = TRUE))\n",
        "\n",
        "n <- dim(Penn)[1]\n",
        "p_1 <- dim(Penn)[2]\n",
        "Penn <- subset(Penn, tg == 4 | tg == 0)\n",
        "attach(Penn)"
      ]
    },
    {
      "cell_type": "code",
      "execution_count": null,
      "metadata": {
        "id": "iTghGG4Kelkk",
        "vscode": {
          "languageId": "r"
        },
        "colab": {
          "base_uri": "https://localhost:8080/",
          "height": 52
        },
        "outputId": "dd0461c2-9cd0-4a53-ac70-cacc90dcd386"
      },
      "outputs": [
        {
          "output_type": "display_data",
          "data": {
            "text/plain": [
              "   Mode   FALSE    TRUE \n",
              "logical    3354    1745 "
            ]
          },
          "metadata": {}
        }
      ],
      "source": [
        "T4 <- (tg == 4)\n",
        "summary(T4)"
      ]
    },
    {
      "cell_type": "code",
      "execution_count": null,
      "metadata": {
        "id": "ZbWuqKExelkl",
        "vscode": {
          "languageId": "r"
        },
        "colab": {
          "base_uri": "https://localhost:8080/",
          "height": 286
        },
        "outputId": "f07b79ea-a3bf-4ded-a12d-389e9c31feb4"
      },
      "outputs": [
        {
          "output_type": "display_data",
          "data": {
            "text/html": [
              "<table class=\"dataframe\">\n",
              "<caption>A data.frame: 6 × 23</caption>\n",
              "<thead>\n",
              "\t<tr><th></th><th scope=col>abdt</th><th scope=col>tg</th><th scope=col>inuidur1</th><th scope=col>inuidur2</th><th scope=col>female</th><th scope=col>black</th><th scope=col>hispanic</th><th scope=col>othrace</th><th scope=col>dep</th><th scope=col>q1</th><th scope=col>⋯</th><th scope=col>q5</th><th scope=col>q6</th><th scope=col>recall</th><th scope=col>agelt35</th><th scope=col>agegt54</th><th scope=col>durable</th><th scope=col>nondurable</th><th scope=col>lusd</th><th scope=col>husd</th><th scope=col>muld</th></tr>\n",
              "\t<tr><th></th><th scope=col>&lt;int&gt;</th><th scope=col>&lt;int&gt;</th><th scope=col>&lt;int&gt;</th><th scope=col>&lt;int&gt;</th><th scope=col>&lt;int&gt;</th><th scope=col>&lt;int&gt;</th><th scope=col>&lt;int&gt;</th><th scope=col>&lt;int&gt;</th><th scope=col>&lt;int&gt;</th><th scope=col>&lt;int&gt;</th><th scope=col>⋯</th><th scope=col>&lt;int&gt;</th><th scope=col>&lt;int&gt;</th><th scope=col>&lt;int&gt;</th><th scope=col>&lt;int&gt;</th><th scope=col>&lt;int&gt;</th><th scope=col>&lt;int&gt;</th><th scope=col>&lt;int&gt;</th><th scope=col>&lt;int&gt;</th><th scope=col>&lt;int&gt;</th><th scope=col>&lt;int&gt;</th></tr>\n",
              "</thead>\n",
              "<tbody>\n",
              "\t<tr><th scope=row>1</th><td>10824</td><td>0</td><td>18</td><td>18</td><td>0</td><td>0</td><td>0</td><td>0</td><td>2</td><td>0</td><td>⋯</td><td>1</td><td>0</td><td>0</td><td>0</td><td>0</td><td>0</td><td>0</td><td>0</td><td>1</td><td>0</td></tr>\n",
              "\t<tr><th scope=row>4</th><td>10824</td><td>0</td><td> 1</td><td> 1</td><td>0</td><td>0</td><td>0</td><td>0</td><td>0</td><td>0</td><td>⋯</td><td>1</td><td>0</td><td>0</td><td>0</td><td>0</td><td>0</td><td>0</td><td>1</td><td>0</td><td>0</td></tr>\n",
              "\t<tr><th scope=row>5</th><td>10747</td><td>0</td><td>27</td><td>27</td><td>0</td><td>0</td><td>0</td><td>0</td><td>0</td><td>0</td><td>⋯</td><td>0</td><td>0</td><td>0</td><td>0</td><td>0</td><td>0</td><td>0</td><td>1</td><td>0</td><td>0</td></tr>\n",
              "\t<tr><th scope=row>12</th><td>10607</td><td>4</td><td> 9</td><td> 9</td><td>0</td><td>0</td><td>0</td><td>0</td><td>0</td><td>0</td><td>⋯</td><td>0</td><td>0</td><td>0</td><td>1</td><td>0</td><td>0</td><td>0</td><td>0</td><td>0</td><td>1</td></tr>\n",
              "\t<tr><th scope=row>13</th><td>10831</td><td>0</td><td>27</td><td>27</td><td>0</td><td>0</td><td>0</td><td>0</td><td>1</td><td>0</td><td>⋯</td><td>1</td><td>0</td><td>0</td><td>0</td><td>1</td><td>1</td><td>0</td><td>1</td><td>0</td><td>0</td></tr>\n",
              "\t<tr><th scope=row>14</th><td>10845</td><td>0</td><td>27</td><td>27</td><td>1</td><td>0</td><td>0</td><td>0</td><td>0</td><td>0</td><td>⋯</td><td>1</td><td>0</td><td>0</td><td>0</td><td>1</td><td>0</td><td>0</td><td>1</td><td>0</td><td>0</td></tr>\n",
              "</tbody>\n",
              "</table>\n"
            ],
            "text/markdown": "\nA data.frame: 6 × 23\n\n| <!--/--> | abdt &lt;int&gt; | tg &lt;int&gt; | inuidur1 &lt;int&gt; | inuidur2 &lt;int&gt; | female &lt;int&gt; | black &lt;int&gt; | hispanic &lt;int&gt; | othrace &lt;int&gt; | dep &lt;int&gt; | q1 &lt;int&gt; | ⋯ ⋯ | q5 &lt;int&gt; | q6 &lt;int&gt; | recall &lt;int&gt; | agelt35 &lt;int&gt; | agegt54 &lt;int&gt; | durable &lt;int&gt; | nondurable &lt;int&gt; | lusd &lt;int&gt; | husd &lt;int&gt; | muld &lt;int&gt; |\n|---|---|---|---|---|---|---|---|---|---|---|---|---|---|---|---|---|---|---|---|---|---|\n| 1 | 10824 | 0 | 18 | 18 | 0 | 0 | 0 | 0 | 2 | 0 | ⋯ | 1 | 0 | 0 | 0 | 0 | 0 | 0 | 0 | 1 | 0 |\n| 4 | 10824 | 0 |  1 |  1 | 0 | 0 | 0 | 0 | 0 | 0 | ⋯ | 1 | 0 | 0 | 0 | 0 | 0 | 0 | 1 | 0 | 0 |\n| 5 | 10747 | 0 | 27 | 27 | 0 | 0 | 0 | 0 | 0 | 0 | ⋯ | 0 | 0 | 0 | 0 | 0 | 0 | 0 | 1 | 0 | 0 |\n| 12 | 10607 | 4 |  9 |  9 | 0 | 0 | 0 | 0 | 0 | 0 | ⋯ | 0 | 0 | 0 | 1 | 0 | 0 | 0 | 0 | 0 | 1 |\n| 13 | 10831 | 0 | 27 | 27 | 0 | 0 | 0 | 0 | 1 | 0 | ⋯ | 1 | 0 | 0 | 0 | 1 | 1 | 0 | 1 | 0 | 0 |\n| 14 | 10845 | 0 | 27 | 27 | 1 | 0 | 0 | 0 | 0 | 0 | ⋯ | 1 | 0 | 0 | 0 | 1 | 0 | 0 | 1 | 0 | 0 |\n\n",
            "text/latex": "A data.frame: 6 × 23\n\\begin{tabular}{r|lllllllllllllllllllll}\n  & abdt & tg & inuidur1 & inuidur2 & female & black & hispanic & othrace & dep & q1 & ⋯ & q5 & q6 & recall & agelt35 & agegt54 & durable & nondurable & lusd & husd & muld\\\\\n  & <int> & <int> & <int> & <int> & <int> & <int> & <int> & <int> & <int> & <int> & ⋯ & <int> & <int> & <int> & <int> & <int> & <int> & <int> & <int> & <int> & <int>\\\\\n\\hline\n\t1 & 10824 & 0 & 18 & 18 & 0 & 0 & 0 & 0 & 2 & 0 & ⋯ & 1 & 0 & 0 & 0 & 0 & 0 & 0 & 0 & 1 & 0\\\\\n\t4 & 10824 & 0 &  1 &  1 & 0 & 0 & 0 & 0 & 0 & 0 & ⋯ & 1 & 0 & 0 & 0 & 0 & 0 & 0 & 1 & 0 & 0\\\\\n\t5 & 10747 & 0 & 27 & 27 & 0 & 0 & 0 & 0 & 0 & 0 & ⋯ & 0 & 0 & 0 & 0 & 0 & 0 & 0 & 1 & 0 & 0\\\\\n\t12 & 10607 & 4 &  9 &  9 & 0 & 0 & 0 & 0 & 0 & 0 & ⋯ & 0 & 0 & 0 & 1 & 0 & 0 & 0 & 0 & 0 & 1\\\\\n\t13 & 10831 & 0 & 27 & 27 & 0 & 0 & 0 & 0 & 1 & 0 & ⋯ & 1 & 0 & 0 & 0 & 1 & 1 & 0 & 1 & 0 & 0\\\\\n\t14 & 10845 & 0 & 27 & 27 & 1 & 0 & 0 & 0 & 0 & 0 & ⋯ & 1 & 0 & 0 & 0 & 1 & 0 & 0 & 1 & 0 & 0\\\\\n\\end{tabular}\n",
            "text/plain": [
              "   abdt  tg inuidur1 inuidur2 female black hispanic othrace dep q1 ⋯ q5 q6\n",
              "1  10824 0  18       18       0      0     0        0       2   0  ⋯ 1  0 \n",
              "4  10824 0   1        1       0      0     0        0       0   0  ⋯ 1  0 \n",
              "5  10747 0  27       27       0      0     0        0       0   0  ⋯ 0  0 \n",
              "12 10607 4   9        9       0      0     0        0       0   0  ⋯ 0  0 \n",
              "13 10831 0  27       27       0      0     0        0       1   0  ⋯ 1  0 \n",
              "14 10845 0  27       27       1      0     0        0       0   0  ⋯ 1  0 \n",
              "   recall agelt35 agegt54 durable nondurable lusd husd muld\n",
              "1  0      0       0       0       0          0    1    0   \n",
              "4  0      0       0       0       0          1    0    0   \n",
              "5  0      0       0       0       0          1    0    0   \n",
              "12 0      1       0       0       0          0    0    1   \n",
              "13 0      0       1       1       0          1    0    0   \n",
              "14 0      0       1       0       0          1    0    0   "
            ]
          },
          "metadata": {}
        }
      ],
      "source": [
        "head(Penn)"
      ]
    },
    {
      "cell_type": "markdown",
      "metadata": {
        "id": "72Rx7ECEelkn"
      },
      "source": [
        "### Model\n",
        "To evaluate the impact of the treatments on unemployment duration, we consider the linear regression model:\n",
        "\n",
        "$$\n",
        "Y =  D \\beta_1 + W'\\beta_2 + \\varepsilon, \\quad E \\varepsilon (D,W')' = 0,\n",
        "$$\n",
        "\n",
        "where $Y$ is  the  log of duration of unemployment, $D$ is a treatment  indicators,  and $W$ is a set of controls including age group dummies, gender, race, number of dependents, quarter of the experiment, location within the state, existence of recall expectations, and type of occupation.   Here $\\beta_1$ is the ATE, if the RCT assumptions hold rigorously.\n",
        "\n",
        "\n",
        "We also consider interactive regression model:\n",
        "\n",
        "$$\n",
        "Y =  D \\alpha_1 + D W' \\alpha_2 + W'\\beta_2 + \\varepsilon, \\quad E \\varepsilon (D,W', DW')' = 0,\n",
        "$$\n",
        "where $W$'s are demeaned (apart from the intercept), so that $\\alpha_1$ is the ATE, if the RCT assumptions hold rigorously."
      ]
    },
    {
      "cell_type": "markdown",
      "metadata": {
        "id": "uNtms5PHelko"
      },
      "source": [
        "Under RCT, the projection coefficient $\\beta_1$ has\n",
        "the interpretation of the causal effect of the treatment on\n",
        "the average outcome. We thus refer to $\\beta_1$ as the average\n",
        "treatment effect (ATE). Note that the covariates, here are\n",
        "independent of the treatment $D$, so we can identify $\\beta_1$ by\n",
        "just linear regression of $Y$ on $D$, without adding covariates.\n",
        "However we do add covariates in an effort to improve the\n",
        "precision of our estimates of the average treatment effect."
      ]
    },
    {
      "cell_type": "markdown",
      "metadata": {
        "id": "cMy_2NxKelkq"
      },
      "source": [
        "### Analysis\n",
        "\n",
        "We consider\n",
        "\n",
        "*  classical 2-sample approach, no adjustment (CL)\n",
        "*  classical linear regression adjustment (CRA)\n",
        "*  interactive regression adjusment (IRA)\n",
        "\n",
        "and carry out robust inference using the *estimatr* R packages."
      ]
    },
    {
      "cell_type": "markdown",
      "metadata": {
        "id": "lo-Cogv5elkx"
      },
      "source": [
        "# Carry out covariate balance check\n",
        "\n",
        "\n",
        "We first look at the coefficients individually with a $t$-test, and then we adjust the $p$-values to control for family-wise error."
      ]
    },
    {
      "cell_type": "markdown",
      "metadata": {
        "id": "2FeCJjOselky"
      },
      "source": [
        "The regression below is done using \"type='HC1'\" which computes the correct Eicker-Huber-White standard errors, instead of the classical non-robust formula based on homoscedasticity."
      ]
    },
    {
      "cell_type": "code",
      "execution_count": null,
      "metadata": {
        "id": "GYOMYN_WRNTL",
        "vscode": {
          "languageId": "r"
        },
        "colab": {
          "base_uri": "https://localhost:8080/",
          "height": 1000
        },
        "outputId": "95c240f4-d19b-43ae-995b-89b628286f5a"
      },
      "outputs": [
        {
          "output_type": "stream",
          "name": "stderr",
          "text": [
            "Warning message in meatHC(x, type = type, omega = omega):\n",
            "“HC1 covariances become (close to) singular if hat values are (close to) 1 as for observation(s) 3791”\n"
          ]
        },
        {
          "output_type": "display_data",
          "data": {
            "text/plain": [
              "\n",
              "t test of coefficients:\n",
              "\n",
              "                        Estimate  Std. Error t value  Pr(>|t|)    \n",
              "(Intercept)           0.32145725  0.16125607  1.9935 0.0462656 *  \n",
              "female                0.10423328  0.13624779  0.7650 0.4442914    \n",
              "black                 0.07164803  0.08288534  0.8644 0.3873969    \n",
              "othrace               0.02801517  0.40496815  0.0692 0.9448502    \n",
              "factor(dep)1         -0.07363340  0.20094637 -0.3664 0.7140574    \n",
              "factor(dep)2         -0.10854072  0.15754307 -0.6890 0.4908810    \n",
              "q2                   -0.02667937  0.16255836 -0.1641 0.8696419    \n",
              "q3                   -0.00567387  0.16218178 -0.0350 0.9720934    \n",
              "q4                    0.04334425  0.16233956  0.2670 0.7894821    \n",
              "q5                    0.09386458  0.16157184  0.5809 0.5613028    \n",
              "q6                   -0.22156423  0.15984049 -1.3862 0.1657604    \n",
              "agelt35              -0.10923976  0.13323486 -0.8199 0.4123101    \n",
              "agegt54              -0.43668630  0.13581268 -3.2154 0.0013111 ** \n",
              "durable              -0.12500967  0.17083793 -0.7317 0.4643590    \n",
              "lusd                  0.11428653  0.06824019  1.6748 0.0940422 .  \n",
              "husd                  0.09467997  0.07364116  1.2857 0.1986096    \n",
              "female:black          0.08886596  0.04381635  2.0281 0.0425983 *  \n",
              "female:othrace       -0.41350947  0.16481280 -2.5090 0.0121400 *  \n",
              "female:factor(dep)1   0.05547519  0.04647943  1.1935 0.2327135    \n",
              "female:factor(dep)2   0.04544801  0.04053454  1.1212 0.2622494    \n",
              "female:q2            -0.18880964  0.13587953 -1.3895 0.1647314    \n",
              "female:q3            -0.16526367  0.13565839 -1.2182 0.2231926    \n",
              "female:q4            -0.17632875  0.13530942 -1.3032 0.1925829    \n",
              "female:q5            -0.20321654  0.13480991 -1.5074 0.1317636    \n",
              "female:q6            -0.04271603  0.14234389 -0.3001 0.7641207    \n",
              "female:agelt35        0.07342181  0.03004676  2.4436 0.0145765 *  \n",
              "female:agegt54        0.02612867  0.05090915  0.5132 0.6078053    \n",
              "female:durable        0.01975687  0.04372711  0.4518 0.6514168    \n",
              "female:lusd           0.00206955  0.03395251  0.0610 0.9513982    \n",
              "female:husd           0.01178851  0.03747209  0.3146 0.7530827    \n",
              "black:factor(dep)1   -0.11726334  0.06797874 -1.7250 0.0845893 .  \n",
              "black:factor(dep)2   -0.02222434  0.06342353 -0.3504 0.7260446    \n",
              "black:q2             -0.03349395  0.08989631 -0.3726 0.7094737    \n",
              "black:q3             -0.19656696  0.08506268 -2.3108 0.0208818 *  \n",
              "black:q4             -0.12493576  0.08604499 -1.4520 0.1465694    \n",
              "black:q5             -0.20988793  0.08398490 -2.4991 0.0124822 *  \n",
              "black:agelt35         0.06226414  0.04512447  1.3798 0.1677004    \n",
              "black:agegt54         0.05126323  0.08453009  0.6064 0.5442439    \n",
              "black:durable         0.10475086  0.06615415  1.5834 0.1133854    \n",
              "black:lusd           -0.02103874  0.05600033 -0.3757 0.7071637    \n",
              "black:husd            0.24964245  0.16874707  1.4794 0.1390996    \n",
              "othrace:factor(dep)1 -0.85807661  0.33077992 -2.5941 0.0095115 ** \n",
              "othrace:factor(dep)2  0.24153715  0.13330391  1.8119 0.0700573 .  \n",
              "othrace:q2            0.43717264  0.34672729  1.2609 0.2074202    \n",
              "othrace:q3           -0.37343006  0.37701782 -0.9905 0.3219856    \n",
              "othrace:q4            0.41589086  0.32950089  1.2622 0.2069414    \n",
              "othrace:q5            0.00605385  0.31112921  0.0195 0.9844768    \n",
              "othrace:agelt35       0.31647921  0.18343682  1.7253 0.0845395 .  \n",
              "othrace:agegt54       0.30916352  0.15913988  1.9427 0.0521066 .  \n",
              "othrace:durable      -0.19077665  0.13757582 -1.3867 0.1655946    \n",
              "othrace:lusd         -0.09108976  0.20264053 -0.4495 0.6530804    \n",
              "othrace:husd          0.00516356  0.20312636  0.0254 0.9797206    \n",
              "factor(dep)1:q2       0.16575553  0.20084375  0.8253 0.4092430    \n",
              "factor(dep)2:q2       0.08749363  0.15663627  0.5586 0.5764745    \n",
              "factor(dep)1:q3       0.12098515  0.19967547  0.6059 0.5446028    \n",
              "factor(dep)2:q3       0.13964196  0.15680429  0.8905 0.3732138    \n",
              "factor(dep)1:q4       0.08476950  0.19909174  0.4258 0.6702857    \n",
              "factor(dep)2:q4       0.09099807  0.15685510  0.5801 0.5618457    \n",
              "factor(dep)1:q5       0.11045395  0.19829410  0.5570 0.5775381    \n",
              "factor(dep)2:q5       0.09599502  0.15542385  0.6176 0.5368449    \n",
              "factor(dep)1:q6       0.10069661  0.20903291  0.4817 0.6300216    \n",
              "factor(dep)2:q6       0.04840278  0.16392190  0.2953 0.7677926    \n",
              "factor(dep)1:agelt35 -0.07372986  0.04856221 -1.5183 0.1290132    \n",
              "factor(dep)2:agelt35 -0.02438958  0.03750210 -0.6504 0.5154946    \n",
              "factor(dep)1:agegt54 -0.08058890  0.06829342 -1.1800 0.2380409    \n",
              "factor(dep)2:agegt54  0.02804903  0.12779824  0.2195 0.8262859    \n",
              "factor(dep)1:durable -0.06027564  0.05959803 -1.0114 0.3118885    \n",
              "factor(dep)2:durable  0.12466452  0.05025495  2.4806 0.0131473 *  \n",
              "factor(dep)1:lusd     0.05896976  0.05246189  1.1240 0.2610461    \n",
              "factor(dep)2:lusd     0.05157515  0.04708540  1.0954 0.2734147    \n",
              "factor(dep)1:husd    -0.04332567  0.05587546 -0.7754 0.4381417    \n",
              "factor(dep)2:husd    -0.08820323  0.04775494 -1.8470 0.0648067 .  \n",
              "q2:agelt35            0.12754085  0.13321346  0.9574 0.3384031    \n",
              "q2:agegt54            0.52955745  0.13686983  3.8691 0.0001106 ***\n",
              "q2:durable            0.12611989  0.16953217  0.7439 0.4569544    \n",
              "q2:lusd              -0.07617774  0.07121471 -1.0697 0.2848100    \n",
              "q2:husd              -0.01882666  0.07542000 -0.2496 0.8028882    \n",
              "q3:agelt35            0.13059171  0.13296592  0.9821 0.3260764    \n",
              "q3:agegt54            0.47820240  0.13404885  3.5674 0.0003640 ***\n",
              "q3:durable            0.05420566  0.16940199  0.3200 0.7489950    \n",
              "q3:lusd              -0.05379374  0.06990174 -0.7696 0.4415960    \n",
              "q3:husd              -0.06007985  0.07486872 -0.8025 0.4223197    \n",
              "q4:agelt35            0.13100899  0.13279101  0.9866 0.3238962    \n",
              "q4:agegt54            0.54033014  0.13143961  4.1109 4.005e-05 ***\n",
              "q4:durable            0.09625171  0.16983764  0.5667 0.5709246    \n",
              "q4:lusd              -0.10342038  0.07052957 -1.4663 0.1426184    \n",
              "q4:husd              -0.17191877  0.07455451 -2.3059 0.0211543 *  \n",
              "q5:agelt35            0.07077473  0.13203088  0.5360 0.5919501    \n",
              "q5:agegt54            0.44377887  0.13056413  3.3989 0.0006818 ***\n",
              "q5:durable            0.07466571  0.16765628  0.4453 0.6560862    \n",
              "q5:lusd              -0.07611869  0.07005218 -1.0866 0.2772661    \n",
              "q5:husd              -0.16162391  0.07301750 -2.2135 0.0269085 *  \n",
              "q6:agelt35            0.17030213  0.13886226  1.2264 0.2201021    \n",
              "q6:agegt54            0.56552338  0.15041890  3.7597 0.0001721 ***\n",
              "q6:durable            0.25578701  0.17834228  1.4342 0.1515642    \n",
              "agelt35:durable       0.00948986  0.04062983  0.2336 0.8153294    \n",
              "agelt35:lusd         -0.02586155  0.03541632 -0.7302 0.4652926    \n",
              "agelt35:husd          0.03548765  0.03973732  0.8931 0.3718702    \n",
              "agegt54:durable      -0.06231416  0.06390387 -0.9751 0.3295462    \n",
              "agegt54:lusd         -0.03662895  0.05793021 -0.6323 0.5272235    \n",
              "agegt54:husd         -0.07421790  0.06125689 -1.2116 0.2257288    \n",
              "durable:lusd         -0.05517360  0.04342256 -1.2706 0.2039228    \n",
              "durable:husd         -0.00016918  0.05273588 -0.0032 0.9974404    \n",
              "---\n",
              "Signif. codes:  0 ‘***’ 0.001 ‘**’ 0.01 ‘*’ 0.05 ‘.’ 0.1 ‘ ’ 1\n"
            ]
          },
          "metadata": {}
        }
      ],
      "source": [
        "data <- model.matrix(T4 ~ (female + black + othrace + factor(dep) + q2 + q3 + q4 + q5 + q6 +\n",
        "                             agelt35 + agegt54 + durable + lusd + husd)^2)\n",
        "\n",
        "# individual t-tests\n",
        "m <- lm(T4 ~ (female + black + othrace + factor(dep) + q2 + q3 + q4 + q5 + q6 +\n",
        "                agelt35 + agegt54 + durable + lusd + husd)^2, data = as.data.frame(data))\n",
        "coeftest(m, vcov = vcovHC(m, type = \"HC1\"))"
      ]
    },
    {
      "cell_type": "code",
      "source": [
        "# Create the model matrix using all two-way interactions among the controls\n",
        "data <- model.matrix(T4 ~ (female + black + othrace + factor(dep) + q2 + q3 + q4 + q5 + q6 +\n",
        "                             agelt35 + agegt54 + durable + lusd + husd)^2)\n",
        "\n",
        "# Fit the linear model on the data matrix (treatment as outcome)\n",
        "m <- lm(T4 ~ (female + black + othrace + factor(dep) + q2 + q3 + q4 + q5 + q6 +\n",
        "                agelt35 + agegt54 + durable + lusd + husd)^2,\n",
        "        data = as.data.frame(data))\n",
        "\n",
        "# Compute robust standard errors using HC0 and HC1\n",
        "result_HC0 <- coeftest(m, vcov = vcovHC(m, type = \"HC0\"))\n",
        "result_HC1 <- coeftest(m, vcov = vcovHC(m, type = \"HC1\"))\n",
        "\n",
        "# Combine the results into one table\n",
        "results_table <- data.frame(\n",
        "  Estimate = result_HC0[, 1],\n",
        "  HC0_SE   = result_HC0[, 2],\n",
        "  HC0_t    = result_HC0[, 3],\n",
        "  HC0_p    = result_HC0[, 4],\n",
        "  HC1_SE   = result_HC1[, 2],\n",
        "  HC1_t    = result_HC1[, 3],\n",
        "  HC1_p    = result_HC1[, 4]\n",
        ")\n",
        "\n",
        "# Name the rows using the coefficient names\n",
        "rownames(results_table) <- rownames(result_HC0)\n",
        "\n",
        "# Subset to only the first 10 rows (variables)\n",
        "results_table_subset <- results_table[1:10, ]\n",
        "\n",
        "# Load xtable package and print the subset table in LaTeX format\n",
        "library(xtable)\n",
        "print(xtable(results_table_subset, digits = c(0, 4, 4, 2, 4, 4, 2, 4)), type = \"latex\")\n"
      ],
      "metadata": {
        "colab": {
          "base_uri": "https://localhost:8080/"
        },
        "id": "jOhXBanv3tXc",
        "outputId": "cd11dae1-2bf9-4b1f-f51c-d5a6cef72735"
      },
      "execution_count": null,
      "outputs": [
        {
          "output_type": "stream",
          "name": "stderr",
          "text": [
            "Warning message in meatHC(x, type = type, omega = omega):\n",
            "“HC0 covariances become (close to) singular if hat values are (close to) 1 as for observation(s) 3791”\n",
            "Warning message in meatHC(x, type = type, omega = omega):\n",
            "“HC1 covariances become (close to) singular if hat values are (close to) 1 as for observation(s) 3791”\n"
          ]
        },
        {
          "output_type": "stream",
          "name": "stdout",
          "text": [
            "% latex table generated in R 4.4.2 by xtable 1.8-4 package\n",
            "% Wed Feb 19 21:05:41 2025\n",
            "\\begin{table}[ht]\n",
            "\\centering\n",
            "\\begin{tabular}{rrrrrrrr}\n",
            "  \\hline\n",
            " & Estimate & HC0\\_SE & HC0\\_t & HC0\\_p & HC1\\_SE & HC1\\_t & HC1\\_p \\\\ \n",
            "  \\hline\n",
            "(Intercept) & 0.3215 & 0.1596 & 2.01 & 0.0441 & 0.1613 & 1.99 & 0.0463 \\\\ \n",
            "  female & 0.1042 & 0.1349 & 0.77 & 0.4396 & 0.1362 & 0.77 & 0.4443 \\\\ \n",
            "  black & 0.0716 & 0.0820 & 0.87 & 0.3825 & 0.0829 & 0.86 & 0.3874 \\\\ \n",
            "  othrace & 0.0280 & 0.4009 & 0.07 & 0.9443 & 0.4050 & 0.07 & 0.9449 \\\\ \n",
            "  factor(dep)1 & -0.0736 & 0.1989 & -0.37 & 0.7113 & 0.2009 & -0.37 & 0.7141 \\\\ \n",
            "  factor(dep)2 & -0.1085 & 0.1559 & -0.70 & 0.4864 & 0.1575 & -0.69 & 0.4909 \\\\ \n",
            "  q2 & -0.0267 & 0.1609 & -0.17 & 0.8683 & 0.1626 & -0.16 & 0.8696 \\\\ \n",
            "  q3 & -0.0057 & 0.1605 & -0.04 & 0.9718 & 0.1622 & -0.03 & 0.9721 \\\\ \n",
            "  q4 & 0.0433 & 0.1607 & 0.27 & 0.7874 & 0.1623 & 0.27 & 0.7895 \\\\ \n",
            "  q5 & 0.0939 & 0.1599 & 0.59 & 0.5573 & 0.1616 & 0.58 & 0.5613 \\\\ \n",
            "   \\hline\n",
            "\\end{tabular}\n",
            "\\end{table}\n"
          ]
        }
      ]
    },
    {
      "cell_type": "markdown",
      "metadata": {
        "id": "hejmSGDuEj5U"
      },
      "source": [
        "\n",
        "\n",
        "To test balance conditions, we employ the Holm-Bonferroni step-down method. With 100+ hypotheses, the family-wise type I error, or the probability of making at least one type I error treating all hypotheses independently, is close to 1. To control for this, we adjust p-values with the following procedure.\n",
        "\n",
        "First, set $\\alpha=0.05$ and denote the list of $n$ p-values from the regression with the vector $p$.\n",
        "\n",
        "1. Sort $p$ from smallest to largest, so $p_{(1)} \\leq p_{(2)} \\leq \\cdots \\leq p_{(n)}$. Denote the corresponding hypothesis for $p_{(i)}$ as $H_{(i)}$.\n",
        "2. For $i=1,\\ldots, n$,\n",
        "- If $$p_{(i)} > \\frac{\\alpha}{n-i+1} $$ Break the loop and do not reject any $H_{(j)}$ for $j \\geq i$.\n",
        "- Else reject $H_{(i)}$ if $$p_{(i)} \\leq \\frac{\\alpha}{n-i+1} $$ Increment $i := i+1$.\n",
        "\n",
        "\n",
        "\n"
      ]
    },
    {
      "cell_type": "code",
      "execution_count": null,
      "metadata": {
        "id": "T4AmK55IiiV1",
        "vscode": {
          "languageId": "r"
        },
        "colab": {
          "base_uri": "https://localhost:8080/"
        },
        "outputId": "5671c24c-a0a8-4260-ca02-a0bbc384bd68"
      },
      "outputs": [
        {
          "output_type": "stream",
          "name": "stderr",
          "text": [
            "Warning message in meatHC(x, type = type, omega = omega):\n",
            "“HC1 covariances become (close to) singular if hat values are (close to) 1 as for observation(s) 3791”\n"
          ]
        },
        {
          "output_type": "stream",
          "name": "stdout",
          "text": [
            "[1] \"Significant Coefficients (Indices):  84\"\n",
            "[2] \"Significant Coefficients (Indices):  74\"\n",
            "[3] \"Significant Coefficients (Indices):  94\"\n",
            "[4] \"Significant Coefficients (Indices):  79\"\n"
          ]
        },
        {
          "output_type": "stream",
          "name": "stderr",
          "text": [
            "Warning message in meatHC(x, type = type, omega = omega):\n",
            "“HC0 covariances become (close to) singular if hat values are (close to) 1 as for observation(s) 3791”\n"
          ]
        },
        {
          "output_type": "stream",
          "name": "stdout",
          "text": [
            "[1] \"Significant Coefficients (Indices):  84\"\n",
            "[2] \"Significant Coefficients (Indices):  74\"\n",
            "[3] \"Significant Coefficients (Indices):  94\"\n",
            "[4] \"Significant Coefficients (Indices):  79\"\n"
          ]
        }
      ],
      "source": [
        "holm_bonferroni <- function(p, alpha = 0.05) {\n",
        "  n <- length(p)\n",
        "  sig_beta <- c()\n",
        "\n",
        "  for (i in 1:n) {\n",
        "    if (sort(p)[i] > alpha / (n - i + 1)) {\n",
        "      break\n",
        "    } else {\n",
        "      sig_beta <- c(sig_beta, order(p)[i])\n",
        "    }\n",
        "  }\n",
        "\n",
        "  return(sig_beta)\n",
        "}\n",
        "\n",
        "p_values <- as.vector(coeftest(m, vcov = vcovHC(m, type = \"HC1\"))[, 4])\n",
        "significant_indices <- holm_bonferroni(p_values, alpha = 0.05)\n",
        "print(paste(\"Significant Coefficients (Indices): \", significant_indices))\n",
        "\n",
        "p_values <- as.vector(coeftest(m, vcov = vcovHC(m, type = \"HC0\"))[, 4])\n",
        "significant_indices <- holm_bonferroni(p_values, alpha = 0.05)\n",
        "print(paste(\"Significant Coefficients (Indices): \", significant_indices))"
      ]
    },
    {
      "cell_type": "markdown",
      "metadata": {
        "id": "66zng98lpK1w"
      },
      "source": [
        "There is also a built in R function to do this."
      ]
    },
    {
      "cell_type": "code",
      "execution_count": null,
      "metadata": {
        "id": "iBMiaj3jAZuo",
        "vscode": {
          "languageId": "r"
        },
        "colab": {
          "base_uri": "https://localhost:8080/",
          "height": 104
        },
        "outputId": "aa02fd61-c592-4c8f-9f9a-c5e74d9b335c"
      },
      "outputs": [
        {
          "output_type": "stream",
          "name": "stderr",
          "text": [
            "Warning message in meatHC(x, type = type, omega = omega):\n",
            "“HC1 covariances become (close to) singular if hat values are (close to) 1 as for observation(s) 3791”\n"
          ]
        },
        {
          "output_type": "display_data",
          "data": {
            "text/html": [
              "<style>\n",
              ".list-inline {list-style: none; margin:0; padding: 0}\n",
              ".list-inline>li {display: inline-block}\n",
              ".list-inline>li:not(:last-child)::after {content: \"\\00b7\"; padding: 0 .5ex}\n",
              "</style>\n",
              "<ol class=list-inline><li>TRUE</li><li>TRUE</li><li>TRUE</li><li>TRUE</li><li>FALSE</li><li>FALSE</li><li>FALSE</li><li>FALSE</li><li>FALSE</li><li>FALSE</li><li>FALSE</li><li>FALSE</li><li>FALSE</li><li>FALSE</li><li>FALSE</li><li>FALSE</li><li>FALSE</li><li>FALSE</li><li>FALSE</li><li>FALSE</li><li>FALSE</li><li>FALSE</li><li>FALSE</li><li>FALSE</li><li>FALSE</li><li>FALSE</li><li>FALSE</li><li>FALSE</li><li>FALSE</li><li>FALSE</li><li>FALSE</li><li>FALSE</li><li>FALSE</li><li>FALSE</li><li>FALSE</li><li>FALSE</li><li>FALSE</li><li>FALSE</li><li>FALSE</li><li>FALSE</li><li>FALSE</li><li>FALSE</li><li>FALSE</li><li>FALSE</li><li>FALSE</li><li>FALSE</li><li>FALSE</li><li>FALSE</li><li>FALSE</li><li>FALSE</li><li>FALSE</li><li>FALSE</li><li>FALSE</li><li>FALSE</li><li>FALSE</li><li>FALSE</li><li>FALSE</li><li>FALSE</li><li>FALSE</li><li>FALSE</li><li>FALSE</li><li>FALSE</li><li>FALSE</li><li>FALSE</li><li>FALSE</li><li>FALSE</li><li>FALSE</li><li>FALSE</li><li>FALSE</li><li>FALSE</li><li>FALSE</li><li>FALSE</li><li>FALSE</li><li>FALSE</li><li>FALSE</li><li>FALSE</li><li>FALSE</li><li>FALSE</li><li>FALSE</li><li>FALSE</li><li>FALSE</li><li>FALSE</li><li>FALSE</li><li>FALSE</li><li>FALSE</li><li>FALSE</li><li>FALSE</li><li>FALSE</li><li>FALSE</li><li>FALSE</li><li>FALSE</li><li>FALSE</li><li>FALSE</li><li>FALSE</li><li>FALSE</li><li>FALSE</li><li>FALSE</li><li>FALSE</li><li>FALSE</li><li>FALSE</li><li>FALSE</li><li>FALSE</li><li>FALSE</li></ol>\n"
            ],
            "text/markdown": "1. TRUE\n2. TRUE\n3. TRUE\n4. TRUE\n5. FALSE\n6. FALSE\n7. FALSE\n8. FALSE\n9. FALSE\n10. FALSE\n11. FALSE\n12. FALSE\n13. FALSE\n14. FALSE\n15. FALSE\n16. FALSE\n17. FALSE\n18. FALSE\n19. FALSE\n20. FALSE\n21. FALSE\n22. FALSE\n23. FALSE\n24. FALSE\n25. FALSE\n26. FALSE\n27. FALSE\n28. FALSE\n29. FALSE\n30. FALSE\n31. FALSE\n32. FALSE\n33. FALSE\n34. FALSE\n35. FALSE\n36. FALSE\n37. FALSE\n38. FALSE\n39. FALSE\n40. FALSE\n41. FALSE\n42. FALSE\n43. FALSE\n44. FALSE\n45. FALSE\n46. FALSE\n47. FALSE\n48. FALSE\n49. FALSE\n50. FALSE\n51. FALSE\n52. FALSE\n53. FALSE\n54. FALSE\n55. FALSE\n56. FALSE\n57. FALSE\n58. FALSE\n59. FALSE\n60. FALSE\n61. FALSE\n62. FALSE\n63. FALSE\n64. FALSE\n65. FALSE\n66. FALSE\n67. FALSE\n68. FALSE\n69. FALSE\n70. FALSE\n71. FALSE\n72. FALSE\n73. FALSE\n74. FALSE\n75. FALSE\n76. FALSE\n77. FALSE\n78. FALSE\n79. FALSE\n80. FALSE\n81. FALSE\n82. FALSE\n83. FALSE\n84. FALSE\n85. FALSE\n86. FALSE\n87. FALSE\n88. FALSE\n89. FALSE\n90. FALSE\n91. FALSE\n92. FALSE\n93. FALSE\n94. FALSE\n95. FALSE\n96. FALSE\n97. FALSE\n98. FALSE\n99. FALSE\n100. FALSE\n101. FALSE\n102. FALSE\n103. FALSE\n\n\n",
            "text/latex": "\\begin{enumerate*}\n\\item TRUE\n\\item TRUE\n\\item TRUE\n\\item TRUE\n\\item FALSE\n\\item FALSE\n\\item FALSE\n\\item FALSE\n\\item FALSE\n\\item FALSE\n\\item FALSE\n\\item FALSE\n\\item FALSE\n\\item FALSE\n\\item FALSE\n\\item FALSE\n\\item FALSE\n\\item FALSE\n\\item FALSE\n\\item FALSE\n\\item FALSE\n\\item FALSE\n\\item FALSE\n\\item FALSE\n\\item FALSE\n\\item FALSE\n\\item FALSE\n\\item FALSE\n\\item FALSE\n\\item FALSE\n\\item FALSE\n\\item FALSE\n\\item FALSE\n\\item FALSE\n\\item FALSE\n\\item FALSE\n\\item FALSE\n\\item FALSE\n\\item FALSE\n\\item FALSE\n\\item FALSE\n\\item FALSE\n\\item FALSE\n\\item FALSE\n\\item FALSE\n\\item FALSE\n\\item FALSE\n\\item FALSE\n\\item FALSE\n\\item FALSE\n\\item FALSE\n\\item FALSE\n\\item FALSE\n\\item FALSE\n\\item FALSE\n\\item FALSE\n\\item FALSE\n\\item FALSE\n\\item FALSE\n\\item FALSE\n\\item FALSE\n\\item FALSE\n\\item FALSE\n\\item FALSE\n\\item FALSE\n\\item FALSE\n\\item FALSE\n\\item FALSE\n\\item FALSE\n\\item FALSE\n\\item FALSE\n\\item FALSE\n\\item FALSE\n\\item FALSE\n\\item FALSE\n\\item FALSE\n\\item FALSE\n\\item FALSE\n\\item FALSE\n\\item FALSE\n\\item FALSE\n\\item FALSE\n\\item FALSE\n\\item FALSE\n\\item FALSE\n\\item FALSE\n\\item FALSE\n\\item FALSE\n\\item FALSE\n\\item FALSE\n\\item FALSE\n\\item FALSE\n\\item FALSE\n\\item FALSE\n\\item FALSE\n\\item FALSE\n\\item FALSE\n\\item FALSE\n\\item FALSE\n\\item FALSE\n\\item FALSE\n\\item FALSE\n\\item FALSE\n\\end{enumerate*}\n",
            "text/plain": [
              "  [1]  TRUE  TRUE  TRUE  TRUE FALSE FALSE FALSE FALSE FALSE FALSE FALSE FALSE\n",
              " [13] FALSE FALSE FALSE FALSE FALSE FALSE FALSE FALSE FALSE FALSE FALSE FALSE\n",
              " [25] FALSE FALSE FALSE FALSE FALSE FALSE FALSE FALSE FALSE FALSE FALSE FALSE\n",
              " [37] FALSE FALSE FALSE FALSE FALSE FALSE FALSE FALSE FALSE FALSE FALSE FALSE\n",
              " [49] FALSE FALSE FALSE FALSE FALSE FALSE FALSE FALSE FALSE FALSE FALSE FALSE\n",
              " [61] FALSE FALSE FALSE FALSE FALSE FALSE FALSE FALSE FALSE FALSE FALSE FALSE\n",
              " [73] FALSE FALSE FALSE FALSE FALSE FALSE FALSE FALSE FALSE FALSE FALSE FALSE\n",
              " [85] FALSE FALSE FALSE FALSE FALSE FALSE FALSE FALSE FALSE FALSE FALSE FALSE\n",
              " [97] FALSE FALSE FALSE FALSE FALSE FALSE FALSE"
            ]
          },
          "metadata": {}
        }
      ],
      "source": [
        "p_values <- as.vector(coeftest(m, vcov = vcovHC(m, type = \"HC1\"))[, 4])\n",
        "holm_reject <- p.adjust(sort(p_values), \"holm\") <= 0.05\n",
        "holm_reject"
      ]
    },
    {
      "cell_type": "markdown",
      "metadata": {
        "id": "tPtstQV7elk0"
      },
      "source": [
        "We see that that even though this is a randomized experiment, balance\n",
        "\n",
        "---\n",
        "\n",
        "conditions are failed.\n",
        "<!--\n",
        "The holm method fails to reject any hypothesis. That is, we fail to reject the hypothesis that any coefficient is zero. Thus, in this randomized experiment, balance conditions are met. -->"
      ]
    },
    {
      "cell_type": "markdown",
      "metadata": {
        "id": "C-2Ii9rbelk1"
      },
      "source": [
        "# Model Specification"
      ]
    },
    {
      "cell_type": "code",
      "execution_count": null,
      "metadata": {
        "id": "43W-vaIzelk1",
        "vscode": {
          "languageId": "r"
        },
        "colab": {
          "base_uri": "https://localhost:8080/"
        },
        "outputId": "e762d590-072a-462a-96a2-cf893fbfa228"
      },
      "outputs": [
        {
          "output_type": "stream",
          "name": "stderr",
          "text": [
            "Warning message in meatHC(x, type = type, omega = omega):\n",
            "“HC1 covariances become (close to) singular if hat values are (close to) 1 as for observation(s) 3791”\n"
          ]
        },
        {
          "output_type": "stream",
          "name": "stdout",
          "text": [
            "   Estimate  Std. Error     t value    Pr(>|t|) \n",
            "-0.08545541  0.03585569 -2.38331509  0.01719391 \n",
            "   Estimate  Std. Error     t value    Pr(>|t|) \n",
            "-0.07968012  0.03559092 -2.23877661  0.02521432 \n"
          ]
        }
      ],
      "source": [
        "# model specifications\n",
        "# no adjustment (2-sample approach)\n",
        "formula_cl <- log(inuidur1) ~ T4\n",
        "\n",
        "# adding controls\n",
        "formula_cra <- log(inuidur1) ~ T4 + (female + black + othrace + factor(dep) + q2 + q3 + q4 + q5 + q6 +\n",
        "                                       agelt35 + agegt54 + durable + lusd + husd)^2\n",
        "# Omitted dummies: q1, nondurable, muld\n",
        "\n",
        "ols_cl <- lm(formula_cl)\n",
        "ols_cra <- lm(formula_cra)\n",
        "\n",
        "ols_cl <- coeftest(ols_cl, vcov = vcovHC(ols_cl, type = \"HC1\"))[2, ]\n",
        "ols_cra <- coeftest(ols_cra, vcov = vcovHC(ols_cra, type = \"HC1\"))[2, ]\n",
        "\n",
        "print(ols_cl)\n",
        "print(ols_cra)"
      ]
    },
    {
      "cell_type": "markdown",
      "metadata": {
        "id": "K2nSjv8Aelk2"
      },
      "source": [
        "The interactive specificaiton corresponds to the approach introduced in Lin (2013)."
      ]
    },
    {
      "cell_type": "code",
      "execution_count": null,
      "metadata": {
        "id": "SGdP0kQ3elk2",
        "vscode": {
          "languageId": "r"
        },
        "colab": {
          "base_uri": "https://localhost:8080/",
          "height": 208
        },
        "outputId": "355f835b-1028-4974-9cf9-f6275087f396"
      },
      "outputs": [
        {
          "output_type": "display_data",
          "data": {
            "text/html": [
              "<style>\n",
              ".list-inline {list-style: none; margin:0; padding: 0}\n",
              ".list-inline>li {display: inline-block}\n",
              ".list-inline>li:not(:last-child)::after {content: \"\\00b7\"; padding: 0 .5ex}\n",
              "</style>\n",
              "<ol class=list-inline><li>5099</li><li>119</li></ol>\n"
            ],
            "text/markdown": "1. 5099\n2. 119\n\n\n",
            "text/latex": "\\begin{enumerate*}\n\\item 5099\n\\item 119\n\\end{enumerate*}\n",
            "text/plain": [
              "[1] 5099  119"
            ]
          },
          "metadata": {}
        },
        {
          "output_type": "stream",
          "name": "stderr",
          "text": [
            "Warning message in meatHC(x, type = type, omega = omega):\n",
            "“HC1 covariances become (close to) singular if hat values are (close to) 1 as for observation(s) 2433, 2543, 3791, 4889, 5087, 5090”\n"
          ]
        },
        {
          "output_type": "stream",
          "name": "stdout",
          "text": [
            "   Estimate  Std. Error \n",
            "-0.07550055  0.03560489 \n"
          ]
        },
        {
          "output_type": "stream",
          "name": "stderr",
          "text": [
            "Warning message in predict.lm(ols_irm, newdata = data_treated):\n",
            "“prediction from rank-deficient fit; attr(*, \"non-estim\") has doubtful cases”\n",
            "Warning message in predict.lm(ols_irm, newdata = data_control):\n",
            "“prediction from rank-deficient fit; attr(*, \"non-estim\") has doubtful cases”\n"
          ]
        },
        {
          "output_type": "stream",
          "name": "stdout",
          "text": [
            "   Estimate  Std. Error \n",
            "-0.07550055  0.03600109 \n"
          ]
        }
      ],
      "source": [
        "# interactive regression model;\n",
        "\n",
        "X <- model.matrix(~ (female + black + othrace + factor(dep) + q2 + q3 + q4 + q5 + q6 +\n",
        "                       agelt35 + agegt54 + durable + lusd + husd)^2)[, -1]\n",
        "dim(X)\n",
        "\n",
        "demean <- function(x) {\n",
        "  x - mean(x)\n",
        "}\n",
        "\n",
        "X <- apply(X, 2, demean)\n",
        "Y <- log(inuidur1)\n",
        "\n",
        "ols_irm <- lm(Y ~ T4 * X)\n",
        "ols_ira <- coeftest(ols_irm, vcov = vcovHC(ols_irm, type = \"HC1\"))[2, c(1:2)]\n",
        "\n",
        "print(ols_ira)  # print out ATE estimate and conventional standard error.\n",
        "\n",
        "# Because we de-meaned the covariates and interacted them with the treamtent\n",
        "# we need to account for the error in the means of X, which has a first-order\n",
        "# effect on the ATE estimate -- we need to add variance of CATE to\n",
        "# the standard error scaled by n. Otherwise the se errors are valid for the\n",
        "# sample average CATE.\n",
        "\n",
        "\n",
        "# Create data frames for treated and control predictions\n",
        "data_treated <- data.frame(T4 = TRUE, X)  # Simulate observations under treatment\n",
        "data_control <- data.frame(T4 = FALSE, X)  # Simulate observations under control\n",
        "\n",
        "# Compute predicted values under treatment and control\n",
        "pred_treated <- predict(ols_irm, newdata = data_treated)\n",
        "pred_control <- predict(ols_irm, newdata = data_control)\n",
        "\n",
        "# Compute CATE as the difference\n",
        "CATE <- pred_treated - pred_control\n",
        "n <- length(Y)\n",
        "\n",
        "# adjust the SE:\n",
        "ols_ira[2] <- sqrt((ols_ira[2])^2 + var(CATE) / length(Y))\n",
        "print(ols_ira)\n",
        "\n"
      ]
    },
    {
      "cell_type": "markdown",
      "metadata": {
        "id": "y7k740wbelk3"
      },
      "source": [
        "Next we try out partialling out with lasso"
      ]
    },
    {
      "cell_type": "code",
      "execution_count": null,
      "metadata": {
        "id": "O9AZ49XNelk3",
        "vscode": {
          "languageId": "r"
        },
        "colab": {
          "base_uri": "https://localhost:8080/"
        },
        "outputId": "17f1103e-cfe8-427e-875f-137c477ac160"
      },
      "outputs": [
        {
          "output_type": "stream",
          "name": "stdout",
          "text": [
            "     Estimate. Std. Error   t value   Pr(>|t|)\n",
            "T4 -0.07976793 0.03542395 -2.251808 0.02433441\n"
          ]
        },
        {
          "output_type": "stream",
          "name": "stderr",
          "text": [
            "Warning message in colnames(mod.frame)[1] <- as.character(eval(object$call$formula)[[2]]):\n",
            "“number of items to replace is not a multiple of replacement length”\n",
            "Warning message in colnames(mod.frame)[1] <- as.character(eval(object$call$formula)[[2]]):\n",
            "“number of items to replace is not a multiple of replacement length”\n"
          ]
        },
        {
          "output_type": "stream",
          "name": "stdout",
          "text": [
            "     Estimate. Std. Error   t value   Pr(>|t|)\n",
            "T4 -0.07976793 0.03542463 -2.251808 0.02433441\n"
          ]
        }
      ],
      "source": [
        "T4 <- demean(T4)\n",
        "\n",
        "DX <- model.matrix(~ T4 * X)[, -1]\n",
        "\n",
        "rlasso_ira <- summary(rlassoEffects(DX, log(inuidur1), index = 1, post = FALSE))$coef\n",
        "print(rlasso_ira)\n",
        "\n",
        "# correct standard error for demeaning\n",
        "\n",
        "# Fit Lasso regression with treatment interaction\n",
        "rlasso_model <- rlasso(log(inuidur1) ~ T4 * X, post = FALSE)\n",
        "\n",
        "# Create data frames for treated and control predictions\n",
        "data_treated <- data.frame(T4 = TRUE, X)  # Simulate observations under treatment\n",
        "data_control <- data.frame(T4 = FALSE, X)  # Simulate observations under control\n",
        "\n",
        "# Compute predicted values under treatment and control\n",
        "pred_treated <- predict(rlasso_model, newdata = data_treated)\n",
        "pred_control <- predict(rlasso_model, newdata = data_control)\n",
        "\n",
        "# Compute CATE as the difference\n",
        "CATE <- pred_treated - pred_control\n",
        "\n",
        "# adjust the SE for demeaning\n",
        "\n",
        "rlasso_ira[2] <- sqrt((rlasso_ira[2])^2 + var(CATE) / length(Y))\n",
        "\n",
        "print(rlasso_ira)"
      ]
    },
    {
      "cell_type": "markdown",
      "metadata": {
        "id": "UOzNgaLaellA"
      },
      "source": [
        "### Results"
      ]
    },
    {
      "cell_type": "code",
      "execution_count": null,
      "metadata": {
        "id": "wvxXEMUQellC",
        "vscode": {
          "languageId": "r"
        },
        "colab": {
          "base_uri": "https://localhost:8080/",
          "height": 387
        },
        "outputId": "b5e75095-d0d2-4ee7-bff5-841a9ebe665f"
      },
      "outputs": [
        {
          "output_type": "display_data",
          "data": {
            "text/html": [
              "<table class=\"dataframe\">\n",
              "<caption>A xtable: 2 × 4</caption>\n",
              "<thead>\n",
              "\t<tr><th></th><th scope=col>CL</th><th scope=col>CRA</th><th scope=col>IRA</th><th scope=col>IRA w Lasso</th></tr>\n",
              "\t<tr><th></th><th scope=col>&lt;dbl&gt;</th><th scope=col>&lt;dbl&gt;</th><th scope=col>&lt;dbl&gt;</th><th scope=col>&lt;dbl&gt;</th></tr>\n",
              "</thead>\n",
              "<tbody>\n",
              "\t<tr><th scope=row>estimate</th><td>-0.08545541</td><td>-0.07968012</td><td>-0.07550055</td><td>-0.07976793</td></tr>\n",
              "\t<tr><th scope=row>standard error</th><td> 0.03585569</td><td> 0.03559092</td><td> 0.03600109</td><td> 0.03542463</td></tr>\n",
              "</tbody>\n",
              "</table>\n"
            ],
            "text/markdown": "\nA xtable: 2 × 4\n\n| <!--/--> | CL &lt;dbl&gt; | CRA &lt;dbl&gt; | IRA &lt;dbl&gt; | IRA w Lasso &lt;dbl&gt; |\n|---|---|---|---|---|\n| estimate | -0.08545541 | -0.07968012 | -0.07550055 | -0.07976793 |\n| standard error |  0.03585569 |  0.03559092 |  0.03600109 |  0.03542463 |\n\n",
            "text/latex": "A xtable: 2 × 4\n\\begin{tabular}{r|llll}\n  & CL & CRA & IRA & IRA w Lasso\\\\\n  & <dbl> & <dbl> & <dbl> & <dbl>\\\\\n\\hline\n\testimate & -0.08545541 & -0.07968012 & -0.07550055 & -0.07976793\\\\\n\tstandard error &  0.03585569 &  0.03559092 &  0.03600109 &  0.03542463\\\\\n\\end{tabular}\n",
            "text/plain": [
              "               CL          CRA         IRA         IRA w Lasso\n",
              "estimate       -0.08545541 -0.07968012 -0.07550055 -0.07976793\n",
              "standard error  0.03585569  0.03559092  0.03600109  0.03542463"
            ]
          },
          "metadata": {}
        },
        {
          "output_type": "stream",
          "name": "stdout",
          "text": [
            "% latex table generated in R 4.4.2 by xtable 1.8-4 package\n",
            "% Wed Feb 19 21:15:38 2025\n",
            "\\begin{table}[ht]\n",
            "\\centering\n",
            "\\begin{tabular}{rrrrr}\n",
            "  \\hline\n",
            " & CL & CRA & IRA & IRA w Lasso \\\\ \n",
            "  \\hline\n",
            "estimate & -0.08546 & -0.07968 & -0.07550 & -0.07977 \\\\ \n",
            "  standard error & 0.03586 & 0.03559 & 0.03600 & 0.03542 \\\\ \n",
            "   \\hline\n",
            "\\end{tabular}\n",
            "\\end{table}\n"
          ]
        }
      ],
      "source": [
        "table <- matrix(0, 2, 4)\n",
        "table[1, 1] <- ols_cl[1]\n",
        "table[1, 2] <- ols_cra[1]\n",
        "table[1, 3] <- ols_ira[1]\n",
        "table[1, 4] <- rlasso_ira[1]\n",
        "\n",
        "table[2, 1] <- ols_cl[2]\n",
        "table[2, 2] <- ols_cra[2]\n",
        "table[2, 3] <- ols_ira[2]\n",
        "table[2, 4] <- rlasso_ira[2]\n",
        "\n",
        "\n",
        "colnames(table) <- c(\"CL\", \"CRA\", \"IRA\", \"IRA w Lasso\")\n",
        "rownames(table) <- c(\"estimate\", \"standard error\")\n",
        "tab <- xtable(table, digits = 5)\n",
        "tab\n",
        "\n",
        "print(tab, type = \"latex\", digits = 5)"
      ]
    },
    {
      "cell_type": "markdown",
      "metadata": {
        "id": "srdCKAK8ellD"
      },
      "source": [
        "Treatment group 4 experiences an average decrease of about $7.8\\%$ in the length of unemployment spell.\n",
        "\n",
        "\n",
        "Observe that regression estimators delivers estimates that are slighly more efficient (lower standard errors) than the simple 2 mean estimator, but essentially all methods have very similar standard errors. From IRA results we also see that there is not any statistically detectable heterogeneity.  We also see the regression estimators offer slightly lower estimates -- these difference occur perhaps to due minor imbalance in the treatment allocation, which the regression estimators try to correct.\n",
        "\n",
        "\n"
      ]
    },
    {
      "cell_type": "code",
      "source": [
        "# Load required packages\n",
        "library(sandwich)\n",
        "library(lmtest)\n",
        "library(xtable)\n",
        "library(hdm)\n",
        "\n",
        "# ----------------------------------------------------\n",
        "# 1. Baseline and Covariate-Adjusted Models (HC0)\n",
        "# ----------------------------------------------------\n",
        "\n",
        "# No adjustment (2-sample approach)\n",
        "formula_cl <- log(inuidur1) ~ T4\n",
        "\n",
        "# Adding controls (with all two-way interactions)\n",
        "formula_cra <- log(inuidur1) ~ T4 + (female + black + othrace + factor(dep) +\n",
        "                                       q2 + q3 + q4 + q5 + q6 +\n",
        "                                       agelt35 + agegt54 + durable + lusd + husd)^2\n",
        "# (Omitted dummies: q1, nondurable, muld)\n",
        "\n",
        "# Fit the models\n",
        "ols_cl_model <- lm(formula_cl)\n",
        "ols_cra_model <- lm(formula_cra)\n",
        "\n",
        "# Extract treatment coefficient (the second coefficient) with HC0 robust SEs\n",
        "ols_cl <- coeftest(ols_cl_model, vcov = vcovHC(ols_cl_model, type = \"HC0\"))[2, ]\n",
        "ols_cra <- coeftest(ols_cra_model, vcov = vcovHC(ols_cra_model, type = \"HC0\"))[2, ]\n",
        "\n",
        "print(\"2-Sample (CL) Model (HC0):\")\n",
        "print(ols_cl)\n",
        "print(\"Covariate-Adjusted (CRA) Model (HC0):\")\n",
        "print(ols_cra)\n",
        "\n",
        "# ----------------------------------------------------\n",
        "# 2. Interactive Regression Model (IRA) with HC0\n",
        "# ----------------------------------------------------\n",
        "\n",
        "# Create model matrix of controls with two-way interactions (drop intercept)\n",
        "X <- model.matrix(~ (female + black + othrace + factor(dep) +\n",
        "                      q2 + q3 + q4 + q5 + q6 +\n",
        "                      agelt35 + agegt54 + durable + lusd + husd)^2)[, -1]\n",
        "dim(X)  # (optional, to check dimensions)\n",
        "\n",
        "# Define a function to demean variables\n",
        "demean <- function(x) { x - mean(x) }\n",
        "\n",
        "# Demean the covariates\n",
        "X <- apply(X, 2, demean)\n",
        "Y <- log(inuidur1)\n",
        "\n",
        "# Fit interactive model: outcome regressed on T4 and its interactions with X\n",
        "ols_irm <- lm(Y ~ T4 * X)\n",
        "\n",
        "# Extract the coefficient on T4 (ATE) and its robust HC0 SE\n",
        "ols_ira <- coeftest(ols_irm, vcov = vcovHC(ols_irm, type = \"HC0\"))[2, c(1:2)]\n",
        "print(\"Interactive Regression (IRA) initial (HC0):\")\n",
        "print(ols_ira)\n",
        "\n",
        "# For prediction: Create data frames for treated and control outcomes;\n",
        "# ensure T4 is numeric (1 for treated, 0 for control)\n",
        "data_treated <- data.frame(T4 = 1, X)\n",
        "data_control <- data.frame(T4 = 0, X)\n",
        "\n",
        "# Predict outcomes under treatment and control\n",
        "pred_treated <- predict(ols_irm, newdata = data_treated)\n",
        "pred_control <- predict(ols_irm, newdata = data_control)\n",
        "CATE <- pred_treated - pred_control  # individual treatment effects\n",
        "n <- length(Y)\n",
        "\n",
        "# Adjust the SE to account for the error in demeaning X (variance of CATE / n)\n",
        "ols_ira[2] <- sqrt((ols_ira[2])^2 + var(CATE) / n)\n",
        "print(\"Interactive Regression (IRA) adjusted (HC0):\")\n",
        "print(ols_ira)\n",
        "\n",
        "# ----------------------------------------------------\n",
        "# 3. Lasso-Based Interactive Regression (IRA with Lasso) using HC0\n",
        "# ----------------------------------------------------\n",
        "\n",
        "# Demean the treatment variable T4 for the Lasso procedure\n",
        "T4_demeaned <- demean(T4)\n",
        "\n",
        "# Create model matrix for the interaction of T4_demeaned and X (drop intercept)\n",
        "DX <- model.matrix(~ T4_demeaned * X)[, -1]\n",
        "\n",
        "# Use rlassoEffects to estimate the treatment effect with Lasso (HC0 will be used in the summary)\n",
        "rlasso_ira <- summary(rlassoEffects(DX, log(inuidur1), index = 1, post = FALSE))$coef\n",
        "print(\"Lasso-based IRA initial (HC0):\")\n",
        "print(rlasso_ira)\n",
        "\n",
        "# Fit the Lasso regression model with treatment interaction (non-post selection)\n",
        "rlasso_model <- rlasso(log(inuidur1) ~ T4_demeaned * X, post = FALSE)\n",
        "\n",
        "# For prediction: Create data frames for treated and control; ensure T4_demeaned is numeric\n",
        "data_treated <- data.frame(T4_demeaned = 1, X)\n",
        "data_control <- data.frame(T4_demeaned = 0, X)\n",
        "\n",
        "# Predict outcomes under treatment and control using the Lasso model\n",
        "pred_treated <- predict(rlasso_model, newdata = data_treated)\n",
        "pred_control <- predict(rlasso_model, newdata = data_control)\n",
        "CATE <- pred_treated - pred_control\n",
        "\n",
        "# Adjust the Lasso-based SE for demeaning effects\n",
        "rlasso_ira[2] <- sqrt((rlasso_ira[2])^2 + var(CATE) / n)\n",
        "print(\"Lasso-based IRA adjusted (HC0):\")\n",
        "print(rlasso_ira)\n",
        "\n",
        "# ----------------------------------------------------\n",
        "# 4. Combine and Output Results in a LaTeX Table\n",
        "# ----------------------------------------------------\n",
        "\n",
        "# Create a matrix to hold the estimates and standard errors from all four models\n",
        "result_table <- matrix(0, 2, 4)\n",
        "result_table[1, 1] <- ols_cl[1]\n",
        "result_table[1, 2] <- ols_cra[1]\n",
        "result_table[1, 3] <- ols_ira[1]\n",
        "result_table[1, 4] <- rlasso_ira[1]\n",
        "\n",
        "result_table[2, 1] <- ols_cl[2]\n",
        "result_table[2, 2] <- ols_cra[2]\n",
        "result_table[2, 3] <- ols_ira[2]\n",
        "result_table[2, 4] <- rlasso_ira[2]\n",
        "\n",
        "colnames(result_table) <- c(\"CL\", \"CRA\", \"IRA\", \"IRA w Lasso\")\n",
        "rownames(result_table) <- c(\"Estimate\", \"Standard Error\")\n",
        "\n",
        "# Print the table in LaTeX format using xtable\n",
        "tab <- xtable(result_table, digits = c(0, 5, 5, 5, 5))\n",
        "print(tab, type = \"latex\", digits = 5)\n"
      ],
      "metadata": {
        "colab": {
          "base_uri": "https://localhost:8080/",
          "height": 781
        },
        "id": "_s-cktkP6_S_",
        "outputId": "4123043c-f99f-4e2d-e324-bbffe752318d"
      },
      "execution_count": null,
      "outputs": [
        {
          "output_type": "stream",
          "name": "stderr",
          "text": [
            "Warning message in meatHC(x, type = type, omega = omega):\n",
            "“HC0 covariances become (close to) singular if hat values are (close to) 1 as for observation(s) 3791”\n"
          ]
        },
        {
          "output_type": "stream",
          "name": "stdout",
          "text": [
            "[1] \"2-Sample (CL) Model (HC0):\"\n",
            "   Estimate  Std. Error     t value    Pr(>|t|) \n",
            "-0.08545541  0.03584866 -2.38378264  0.01717211 \n",
            "[1] \"Covariate-Adjusted (CRA) Model (HC0):\"\n",
            "   Estimate  Std. Error     t value    Pr(>|t|) \n",
            "-0.07968012  0.03522609 -2.26196313  0.02374248 \n"
          ]
        },
        {
          "output_type": "display_data",
          "data": {
            "text/html": [
              "<style>\n",
              ".list-inline {list-style: none; margin:0; padding: 0}\n",
              ".list-inline>li {display: inline-block}\n",
              ".list-inline>li:not(:last-child)::after {content: \"\\00b7\"; padding: 0 .5ex}\n",
              "</style>\n",
              "<ol class=list-inline><li>5099</li><li>119</li></ol>\n"
            ],
            "text/markdown": "1. 5099\n2. 119\n\n\n",
            "text/latex": "\\begin{enumerate*}\n\\item 5099\n\\item 119\n\\end{enumerate*}\n",
            "text/plain": [
              "[1] 5099  119"
            ]
          },
          "metadata": {}
        },
        {
          "output_type": "stream",
          "name": "stderr",
          "text": [
            "Warning message in meatHC(x, type = type, omega = omega):\n",
            "“HC0 covariances become (close to) singular if hat values are (close to) 1 as for observation(s) 2433, 2543, 3791, 4889, 5087, 5090”\n"
          ]
        },
        {
          "output_type": "stream",
          "name": "stdout",
          "text": [
            "[1] \"Interactive Regression (IRA) initial (HC0):\"\n",
            "   Estimate  Std. Error \n",
            "-0.07550055  0.03488895 \n"
          ]
        },
        {
          "output_type": "stream",
          "name": "stderr",
          "text": [
            "Warning message in predict.lm(ols_irm, newdata = data_treated):\n",
            "“prediction from rank-deficient fit; attr(*, \"non-estim\") has doubtful cases”\n",
            "Warning message in predict.lm(ols_irm, newdata = data_control):\n",
            "“prediction from rank-deficient fit; attr(*, \"non-estim\") has doubtful cases”\n"
          ]
        },
        {
          "output_type": "stream",
          "name": "stdout",
          "text": [
            "[1] \"Interactive Regression (IRA) adjusted (HC0):\"\n",
            "   Estimate  Std. Error \n",
            "-0.07550055  0.03529319 \n",
            "[1] \"Lasso-based IRA initial (HC0):\"\n",
            "              Estimate. Std. Error   t value   Pr(>|t|)\n",
            "T4_demeaned -0.07976793 0.03542395 -2.251808 0.02433441\n"
          ]
        },
        {
          "output_type": "stream",
          "name": "stderr",
          "text": [
            "Warning message in colnames(mod.frame)[1] <- as.character(eval(object$call$formula)[[2]]):\n",
            "“number of items to replace is not a multiple of replacement length”\n",
            "Warning message in colnames(mod.frame)[1] <- as.character(eval(object$call$formula)[[2]]):\n",
            "“number of items to replace is not a multiple of replacement length”\n"
          ]
        },
        {
          "output_type": "stream",
          "name": "stdout",
          "text": [
            "[1] \"Lasso-based IRA adjusted (HC0):\"\n",
            "              Estimate. Std. Error   t value   Pr(>|t|)\n",
            "T4_demeaned -0.07976793 0.03542463 -2.251808 0.02433441\n",
            "% latex table generated in R 4.4.2 by xtable 1.8-4 package\n",
            "% Wed Feb 19 21:20:06 2025\n",
            "\\begin{table}[ht]\n",
            "\\centering\n",
            "\\begin{tabular}{rrrrr}\n",
            "  \\hline\n",
            " & CL & CRA & IRA & IRA w Lasso \\\\ \n",
            "  \\hline\n",
            "Estimate & -0.08546 & -0.07968 & -0.07550 & -0.07977 \\\\ \n",
            "  Standard Error & 0.03585 & 0.03523 & 0.03529 & 0.03542 \\\\ \n",
            "   \\hline\n",
            "\\end{tabular}\n",
            "\\end{table}\n"
          ]
        }
      ]
    },
    {
      "cell_type": "code",
      "source": [
        "# Load necessary packages\n",
        "library(sandwich)\n",
        "library(lmtest)\n",
        "library(xtable)\n",
        "\n",
        "# ---------------------------------------------\n",
        "# 1. Flexible Controls Model (using HC1)\n",
        "# ---------------------------------------------\n",
        "\n",
        "# Create the model matrix using all two-way and three-way interactions among the controls\n",
        "data <- model.matrix(T4 ~ (female + black + othrace + factor(dep) +\n",
        "                             q2 + q3 + q4 + q5 + q6 +\n",
        "                             agelt35 + agegt54 + durable + lusd + husd)^3)\n",
        "\n",
        "# Fit the linear model on the data matrix (treatment as outcome)\n",
        "m <- lm(T4 ~ (female + black + othrace + factor(dep) +\n",
        "              q2 + q3 + q4 + q5 + q6 +\n",
        "              agelt35 + agegt54 + durable + lusd + husd)^3,\n",
        "        data = as.data.frame(data))\n",
        "\n",
        "# Compute robust standard errors using HC1\n",
        "result_HC1 <- coeftest(m, vcov = vcovHC(m, type = \"HC1\"))\n",
        "\n",
        "# Combine the HC1 results into a table\n",
        "results_table <- data.frame(\n",
        "  Estimate = result_HC1[, 1],\n",
        "  HC1_SE   = result_HC1[, 2],\n",
        "  HC1_t    = result_HC1[, 3],\n",
        "  HC1_p    = result_HC1[, 4]\n",
        ")\n",
        "rownames(results_table) <- rownames(result_HC1)\n",
        "\n",
        "# Subset to only the first 10 rows (variables) for clarity\n",
        "results_table_subset <- results_table[1:10, ]\n",
        "\n",
        "# Print the subset table in LaTeX format using xtable\n",
        "print(xtable(results_table_subset, digits = c(0, 4, 4, 2, 4)), type = \"latex\")\n"
      ],
      "metadata": {
        "colab": {
          "base_uri": "https://localhost:8080/"
        },
        "id": "ha5G-bGB8s8U",
        "outputId": "00081133-d24d-4dae-8621-8030faf30b41"
      },
      "execution_count": null,
      "outputs": [
        {
          "output_type": "stream",
          "name": "stderr",
          "text": [
            "Warning message in meatHC(x, type = type, omega = omega):\n",
            "“HC1 covariances become (close to) singular if hat values are (close to) 1 as for observation(s) 59, 73, 128, 135, 185, 249, 625, 1486, 1496, 1617, ...”\n"
          ]
        },
        {
          "output_type": "stream",
          "name": "stdout",
          "text": [
            "% latex table generated in R 4.4.2 by xtable 1.8-4 package\n",
            "% Wed Feb 19 21:32:15 2025\n",
            "\\begin{table}[ht]\n",
            "\\centering\n",
            "\\begin{tabular}{rrrrr}\n",
            "  \\hline\n",
            " & Estimate & HC1\\_SE & HC1\\_t & HC1\\_p \\\\ \n",
            "  \\hline\n",
            "(Intercept) & 0.0371 & 0.2948 & 0.13 & 0.8998 \\\\ \n",
            "  female & 0.1641 & 0.3217 & 0.51 & 0.6101 \\\\ \n",
            "  black & -0.0933 & 0.1261 & -0.74 & 0.4595 \\\\ \n",
            "  othrace & 0.8177 & 0.0968 & 8.45 & 0.0000 \\\\ \n",
            "  factor(dep)1 & -0.4260 & 0.6250 & -0.68 & 0.4955 \\\\ \n",
            "  factor(dep)2 & -0.0603 & 0.3593 & -0.17 & 0.8667 \\\\ \n",
            "  q2 & -0.1153 & 0.2986 & -0.39 & 0.6995 \\\\ \n",
            "  q3 & -0.0955 & 0.2986 & -0.32 & 0.7492 \\\\ \n",
            "  q4 & -0.0232 & 0.2995 & -0.08 & 0.9382 \\\\ \n",
            "  q5 & -0.0007 & 0.2981 & -0.00 & 0.9982 \\\\ \n",
            "   \\hline\n",
            "\\end{tabular}\n",
            "\\end{table}\n"
          ]
        }
      ]
    },
    {
      "cell_type": "code",
      "source": [
        "\n",
        "# ---------------------------------------------\n",
        "# 2. Balance Check Using Holm–Bonferroni (HC1)\n",
        "# ---------------------------------------------\n",
        "\n",
        "# Define the Holm–Bonferroni function\n",
        "holm_bonferroni <- function(p, alpha = 0.05) {\n",
        "  n <- length(p)\n",
        "  sig_beta <- c()\n",
        "\n",
        "  for (i in 1:n) {\n",
        "    if (sort(p)[i] > alpha / (n - i + 1)) {\n",
        "      break\n",
        "    } else {\n",
        "      sig_beta <- c(sig_beta, order(p)[i])\n",
        "    }\n",
        "  }\n",
        "\n",
        "  return(sig_beta)\n",
        "}\n",
        "\n",
        "# Extract p-values from the HC1 results and apply the Holm–Bonferroni correction\n",
        "p_values_HC1 <- as.vector(result_HC1[, 4])\n",
        "significant_indices_HC1 <- holm_bonferroni(p_values_HC1, alpha = 0.05)\n",
        "print(paste(\"Significant Coefficients (Indices) using HC1:\",\n",
        "            paste(significant_indices_HC1, collapse = \", \")))\n"
      ],
      "metadata": {
        "colab": {
          "base_uri": "https://localhost:8080/"
        },
        "id": "uC_cvB4X874C",
        "outputId": "6a4bc85e-40af-4ef2-ff33-511f73c7efd2"
      },
      "execution_count": null,
      "outputs": [
        {
          "output_type": "stream",
          "name": "stdout",
          "text": [
            "[1] \"Significant Coefficients (Indices) using HC1: 122, 51, 18, 45, 223, 229, 47, 120, 225, 227, 48, 219, 116, 4, 119, 117, 52, 199, 44, 222, 42, 216, 228, 221, 43\"\n"
          ]
        }
      ]
    },
    {
      "cell_type": "code",
      "source": [
        "# --------------------------------------------------\n",
        "# 1. Model Specifications: CL and CRA (using HC1) with Third-Order Interactions\n",
        "# --------------------------------------------------\n",
        "\n",
        "# (a) No adjustment (2-sample approach) remains unchanged:\n",
        "formula_cl <- log(inuidur1) ~ T4\n",
        "\n",
        "# (b) Adding controls with all two-way and three-way interactions\n",
        "# (omitting some dummies: q1, nondurable, muld)\n",
        "formula_cra <- log(inuidur1) ~ T4 + (female + black + othrace + factor(dep) +\n",
        "                                       q2 + q3 + q4 + q5 + q6 +\n",
        "                                       agelt35 + agegt54 + durable + lusd + husd)^3\n",
        "\n",
        "# Fit models\n",
        "ols_cl_model <- lm(formula_cl)\n",
        "ols_cra_model <- lm(formula_cra)\n",
        "\n",
        "# Extract the treatment coefficient (row 2) with HC1 robust standard errors\n",
        "ols_cl <- coeftest(ols_cl_model, vcov = vcovHC(ols_cl_model, type = \"HC1\"))[2, ]\n",
        "ols_cra <- coeftest(ols_cra_model, vcov = vcovHC(ols_cra_model, type = \"HC1\"))[2, ]\n",
        "\n",
        "print(\"CL model (2-sample approach):\")\n",
        "print(ols_cl)\n",
        "print(\"CRA model (covariate-adjusted, third-order interactions):\")\n",
        "print(ols_cra)\n",
        "\n",
        "# --------------------------------------------------\n",
        "# 2. Interactive Regression Model (IRA) using HC1 with Third-Order Interactions\n",
        "# --------------------------------------------------\n",
        "\n",
        "# Create model matrix for controls with all two-way and three-way interactions (drop intercept)\n",
        "X <- model.matrix(~ (female + black + othrace + factor(dep) +\n",
        "                      q2 + q3 + q4 + q5 + q6 +\n",
        "                      agelt35 + agegt54 + durable + lusd + husd)^3)[, -1]\n",
        "dim(X)  # Optional: view dimensions\n",
        "\n",
        "# Function to demean a variable\n",
        "demean <- function(x) {\n",
        "  x - mean(x)\n",
        "}\n",
        "\n",
        "# Demean the covariates\n",
        "X <- apply(X, 2, demean)\n",
        "Y <- log(inuidur1)\n",
        "\n",
        "# Fit the interactive model: outcome regressed on T4 and its interactions with X\n",
        "ols_irm <- lm(Y ~ T4 * X)\n",
        "\n",
        "# Extract the coefficient on T4 (ATE) using HC1 robust SEs (estimate & SE)\n",
        "ols_ira <- coeftest(ols_irm, vcov = vcovHC(ols_irm, type = \"HC1\"))[2, c(1:2)]\n",
        "print(\"Interactive Regression (IRA) initial (HC1):\")\n",
        "print(ols_ira)\n",
        "\n",
        "# For prediction, ensure T4 is numeric (1 for treated, 0 for control)\n",
        "data_treated <- data.frame(T4 = 1, X)\n",
        "data_control <- data.frame(T4 = 0, X)\n",
        "\n",
        "# Compute predicted outcomes under treatment and control\n",
        "pred_treated <- predict(ols_irm, newdata = data_treated)\n",
        "pred_control <- predict(ols_irm, newdata = data_control)\n",
        "CATE <- pred_treated - pred_control  # Individual treatment effects\n",
        "n <- length(Y)\n",
        "\n",
        "# Adjust the standard error of the ATE by adding variance of CATE/n\n",
        "ols_ira[2] <- sqrt((ols_ira[2])^2 + var(CATE) / n)\n",
        "print(\"Interactive Regression (IRA) adjusted (HC1):\")\n",
        "print(ols_ira)\n",
        "\n",
        "# --------------------------------------------------\n",
        "# 3. Interactive Regression with Lasso (IRA w Lasso) using HC1 with Third-Order Interactions\n",
        "# --------------------------------------------------\n",
        "\n",
        "# For the Lasso procedure, demean T4 as well\n",
        "T4_demeaned <- demean(T4)\n",
        "\n",
        "# Create the model matrix for interactions between T4_demeaned and X (drop intercept)\n",
        "DX <- model.matrix(~ T4_demeaned * X)[, -1]\n",
        "\n",
        "# Estimate treatment effect using rlassoEffects (HC1 results provided in summary)\n",
        "rlasso_ira <- summary(rlassoEffects(DX, log(inuidur1), index = 1, post = FALSE))$coef\n",
        "print(\"Lasso-based Interactive Regression (initial) (HC1):\")\n",
        "print(rlasso_ira)\n",
        "\n",
        "# Fit Lasso regression with treatment interaction (non-post-selection version)\n",
        "rlasso_model <- rlasso(log(inuidur1) ~ T4_demeaned * X, post = FALSE)\n",
        "\n",
        "# Create data for prediction (ensure T4_demeaned is numeric: 1 for treated, 0 for control)\n",
        "data_treated <- data.frame(T4_demeaned = 1, X)\n",
        "data_control <- data.frame(T4_demeaned = 0, X)\n",
        "\n",
        "# Compute predicted values and individual treatment effects (CATE)\n",
        "pred_treated <- predict(rlasso_model, newdata = data_treated)\n",
        "pred_control <- predict(rlasso_model, newdata = data_control)\n",
        "CATE <- pred_treated - pred_control\n",
        "\n",
        "# Adjust the standard error for the Lasso-based ATE estimate\n",
        "rlasso_ira[2] <- sqrt((rlasso_ira[2])^2 + var(CATE) / n)\n",
        "print(\"Lasso-based Interactive Regression (adjusted) (HC1):\")\n",
        "print(rlasso_ira)\n",
        "\n",
        "# --------------------------------------------------\n",
        "# 4. Combine Results into a LaTeX Table\n",
        "# --------------------------------------------------\n",
        "\n",
        "result_table <- matrix(0, 2, 4)\n",
        "result_table[1, 1] <- ols_cl[1]\n",
        "result_table[1, 2] <- ols_cra[1]\n",
        "result_table[1, 3] <- ols_ira[1]\n",
        "result_table[1, 4] <- rlasso_ira[1]\n",
        "\n",
        "result_table[2, 1] <- ols_cl[2]\n",
        "result_table[2, 2] <- ols_cra[2]\n",
        "result_table[2, 3] <- ols_ira[2]\n",
        "result_table[2, 4] <- rlasso_ira[2]\n",
        "\n",
        "colnames(result_table) <- c(\"CL\", \"CRA\", \"IRA\", \"IRA w Lasso\")\n",
        "rownames(result_table) <- c(\"estimate\", \"standard error\")\n",
        "\n",
        "tab <- xtable(result_table, digits = c(0, 5, 5, 5, 5))\n",
        "print(tab, type = \"latex\", digits = 5)"
      ],
      "metadata": {
        "colab": {
          "base_uri": "https://localhost:8080/",
          "height": 781
        },
        "id": "m93bXyBNAX-C",
        "outputId": "8d293301-b0c1-4564-b500-f0fec4f6115a"
      },
      "execution_count": null,
      "outputs": [
        {
          "output_type": "stream",
          "name": "stderr",
          "text": [
            "Warning message in meatHC(x, type = type, omega = omega):\n",
            "“HC1 covariances become (close to) singular if hat values are (close to) 1 as for observation(s) 59, 73, 128, 135, 185, 249, 625, 1486, 1496, 1617, ...”\n"
          ]
        },
        {
          "output_type": "stream",
          "name": "stdout",
          "text": [
            "[1] \"CL model (2-sample approach):\"\n",
            "   Estimate  Std. Error     t value    Pr(>|t|) \n",
            "-0.08545541  0.03585569 -2.38331509  0.01719391 \n",
            "[1] \"CRA model (covariate-adjusted, third-order interactions):\"\n",
            "   Estimate  Std. Error     t value    Pr(>|t|) \n",
            "-0.08340662  0.03664070 -2.27633802  0.02286988 \n"
          ]
        },
        {
          "output_type": "display_data",
          "data": {
            "text/html": [
              "<style>\n",
              ".list-inline {list-style: none; margin:0; padding: 0}\n",
              ".list-inline>li {display: inline-block}\n",
              ".list-inline>li:not(:last-child)::after {content: \"\\00b7\"; padding: 0 .5ex}\n",
              "</style>\n",
              "<ol class=list-inline><li>5099</li><li>561</li></ol>\n"
            ],
            "text/markdown": "1. 5099\n2. 561\n\n\n",
            "text/latex": "\\begin{enumerate*}\n\\item 5099\n\\item 561\n\\end{enumerate*}\n",
            "text/plain": [
              "[1] 5099  561"
            ]
          },
          "metadata": {}
        },
        {
          "output_type": "stream",
          "name": "stderr",
          "text": [
            "Warning message in meatHC(x, type = type, omega = omega):\n",
            "“HC1 covariances become (close to) singular if hat values are (close to) 1 as for observation(s) 59, 73, 128, 135, 185, 249, 382, 481, 517, 625, ...”\n"
          ]
        },
        {
          "output_type": "stream",
          "name": "stdout",
          "text": [
            "[1] \"Interactive Regression (IRA) initial (HC1):\"\n",
            "   Estimate  Std. Error \n",
            "-0.08379188  0.03703610 \n"
          ]
        },
        {
          "output_type": "stream",
          "name": "stderr",
          "text": [
            "Warning message in predict.lm(ols_irm, newdata = data_treated):\n",
            "“prediction from rank-deficient fit; attr(*, \"non-estim\") has doubtful cases”\n",
            "Warning message in predict.lm(ols_irm, newdata = data_control):\n",
            "“prediction from rank-deficient fit; attr(*, \"non-estim\") has doubtful cases”\n"
          ]
        },
        {
          "output_type": "stream",
          "name": "stdout",
          "text": [
            "[1] \"Interactive Regression (IRA) adjusted (HC1):\"\n",
            "   Estimate  Std. Error \n",
            "-0.08379188  0.03882384 \n",
            "[1] \"Lasso-based Interactive Regression (initial) (HC1):\"\n",
            "              Estimate. Std. Error   t value   Pr(>|t|)\n",
            "T4_demeaned -0.08382729 0.03536386 -2.370422 0.01776778\n"
          ]
        },
        {
          "output_type": "stream",
          "name": "stderr",
          "text": [
            "Warning message in colnames(mod.frame)[1] <- as.character(eval(object$call$formula)[[2]]):\n",
            "“number of items to replace is not a multiple of replacement length”\n",
            "Warning message in colnames(mod.frame)[1] <- as.character(eval(object$call$formula)[[2]]):\n",
            "“number of items to replace is not a multiple of replacement length”\n"
          ]
        },
        {
          "output_type": "stream",
          "name": "stdout",
          "text": [
            "[1] \"Lasso-based Interactive Regression (adjusted) (HC1):\"\n",
            "              Estimate. Std. Error   t value   Pr(>|t|)\n",
            "T4_demeaned -0.08382729 0.03537262 -2.370422 0.01776778\n",
            "% latex table generated in R 4.4.2 by xtable 1.8-4 package\n",
            "% Wed Feb 19 21:47:11 2025\n",
            "\\begin{table}[ht]\n",
            "\\centering\n",
            "\\begin{tabular}{rrrrr}\n",
            "  \\hline\n",
            " & CL & CRA & IRA & IRA w Lasso \\\\ \n",
            "  \\hline\n",
            "estimate & -0.08546 & -0.08341 & -0.08379 & -0.08383 \\\\ \n",
            "  standard error & 0.03586 & 0.03664 & 0.03882 & 0.03537 \\\\ \n",
            "   \\hline\n",
            "\\end{tabular}\n",
            "\\end{table}\n"
          ]
        }
      ]
    }
  ],
  "metadata": {
    "colab": {
      "provenance": []
    },
    "kernelspec": {
      "display_name": "R",
      "language": "R",
      "name": "ir"
    },
    "language_info": {
      "codemirror_mode": "r",
      "file_extension": ".r",
      "mimetype": "text/x-r-source",
      "name": "R",
      "pygments_lexer": "r",
      "version": "3.6.3"
    }
  },
  "nbformat": 4,
  "nbformat_minor": 0
}